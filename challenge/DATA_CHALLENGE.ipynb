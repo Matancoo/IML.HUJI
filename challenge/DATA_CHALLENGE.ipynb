{
  "nbformat": 4,
  "nbformat_minor": 0,
  "metadata": {
    "colab": {
      "name": "DATA_CHALLENGE.ipynb",
      "provenance": [],
      "authorship_tag": "ABX9TyMstYbJ7uxohgpfGjkcbdu3",
      "include_colab_link": true
    },
    "kernelspec": {
      "name": "python3",
      "display_name": "Python 3"
    },
    "language_info": {
      "name": "python"
    }
  },
  "cells": [
    {
      "cell_type": "markdown",
      "metadata": {
        "id": "view-in-github",
        "colab_type": "text"
      },
      "source": [
        "<a href=\"https://colab.research.google.com/github/Matancoo/IML.HUJI/blob/main/challenge/DATA_CHALLENGE.ipynb\" target=\"_parent\"><img src=\"https://colab.research.google.com/assets/colab-badge.svg\" alt=\"Open In Colab\"/></a>"
      ]
    },
    {
      "cell_type": "code",
      "source": [
        "#imports\n",
        "import matplotlib.pyplot as plt\n",
        "import numpy as np\n",
        "import pandas as pd\n",
        "import plotly.express as px\n",
        "import plotly.io as pio\n",
        "import plotly.graph_objects as go\n",
        "import pickle\n",
        "import re\n",
        "\n",
        "from sklearn.preprocessing import StandardScaler\n",
        "from sklearn.model_selection import train_test_split, GridSearchCV, cross_val_score, StratifiedKFold\n",
        "from sklearn.pipeline import Pipeline\n",
        "from sklearn.dummy import DummyClassifier\n",
        "from sklearn.linear_model import LogisticRegression\n",
        "from sklearn.tree import DecisionTreeClassifier\n",
        "from sklearn.ensemble import BaggingClassifier, RandomForestClassifier\n",
        "from sklearn.metrics import confusion_matrix\n",
        "from sklearn.cluster import KMeans\n",
        "\n",
        "from tensorflow.keras.models import Sequential\n",
        "from tensorflow.keras.layers import Dense, Dropout\n",
        "from tensorflow.keras.wrappers.scikit_learn import KerasRegressor\n",
        "from tensorflow.keras.callbacks import EarlyStopping\n",
        "\n",
        "# from kmodes.kprototypes import KPrototypes\n",
        "!pip install kmodes\n",
        "from kmodes.kprototypes import KPrototypes\n",
        "\n",
        "import torch\n",
        "import torchvision\n",
        "import torchvision.transforms as transforms\n",
        "import random \n",
        "from torchvision import transforms, datasets\n",
        "from torch.utils.data import DataLoader,random_split\n",
        "from torch import nn\n",
        "import torch.nn.functional as F\n",
        "import torch.optim as optim"
      ],
      "metadata": {
        "id": "faVZjc4rXodq",
        "colab": {
          "base_uri": "https://localhost:8080/"
        },
        "outputId": "01e50602-b276-4da1-bb52-9b1b816630b7"
      },
      "execution_count": 79,
      "outputs": [
        {
          "output_type": "stream",
          "name": "stdout",
          "text": [
            "Requirement already satisfied: kmodes in /usr/local/lib/python3.7/dist-packages (0.12.1)\n",
            "Requirement already satisfied: scipy>=0.13.3 in /usr/local/lib/python3.7/dist-packages (from kmodes) (1.4.1)\n",
            "Requirement already satisfied: joblib>=0.11 in /usr/local/lib/python3.7/dist-packages (from kmodes) (1.1.0)\n",
            "Requirement already satisfied: numpy>=1.10.4 in /usr/local/lib/python3.7/dist-packages (from kmodes) (1.21.6)\n",
            "Requirement already satisfied: scikit-learn>=0.22.0 in /usr/local/lib/python3.7/dist-packages (from kmodes) (1.0.2)\n",
            "Requirement already satisfied: threadpoolctl>=2.0.0 in /usr/local/lib/python3.7/dist-packages (from scikit-learn>=0.22.0->kmodes) (3.1.0)\n"
          ]
        }
      ]
    },
    {
      "cell_type": "code",
      "execution_count": 116,
      "metadata": {
        "id": "KmUN5nNrTgQM"
      },
      "outputs": [],
      "source": [
        "\n",
        "\n",
        "\n",
        "def load_data(filename: str):\n",
        "    \"\"\"\n",
        "    Load Agoda booking cancellation dataset\n",
        "    Parameters\n",
        "    ----------\n",
        "    filename: str\n",
        "        Path to house prices dataset\n",
        "    Returns\n",
        "    -------\n",
        "    Design matrix and response vector in either of the following formats:\n",
        "    1) Single dataframe with last column representing the response\n",
        "    2) Tuple of pandas.DataFrame and Series\n",
        "    3) Tuple of ndarray of shape (n_samples, n_features) and ndarray of shape (n_samples,)\n",
        "    \"\"\"\n",
        "    # Data Preprocessing\n",
        "    data = pd.read_csv(filename).drop_duplicates()\n",
        "\n",
        "    # reformat the feature names:  \n",
        "\n",
        "   \n",
        "    #feature engineering before datetime conversion\n",
        "    data['is_cancelled'] = (~pd.isna(data.cancellation_datetime)) #new response\n",
        "\n",
        "\n",
        "    # creating one hot representation\n",
        "    data = pd.get_dummies(data, columns=['hotel_country_code','customer_nationality','charge_option'])\n",
        "    # df= data[[\"hotel_country_code\", 'is_cancelled']].groupby([\"hotel_country_code\"])['is_cancelled'].sum().reset_index()\n",
        "    # data['hotel_country_code1'] = df['is_cancelled']\n",
        "    \n",
        "\n",
        "    # Changing dates to datetime type: \n",
        "    data['cancellation_datetime'] = pd.to_datetime(data['cancellation_datetime'])\n",
        "    data['booking_datetime'] = pd.to_datetime(data['booking_datetime'])\n",
        "    data['checkout_date'] = pd.to_datetime(data['checkout_date'])\n",
        "    data['hotel_live_date'] = pd.to_datetime(data['hotel_live_date'])\n",
        "    data['checkin_date'] = pd.to_datetime(data['checkin_date'])\n",
        "\n",
        "    #feature engineering after datetime conversion\n",
        "    data['time_interval'] = abs(data.booking_datetime.dt.day - data.checkin_date.dt.day).astype(int)\n",
        "\n",
        "\n",
        "    data['booking_datetime_m'] = data.booking_datetime.dt.month.astype(int)\n",
        "    data['booking_datetime_d']= data.booking_datetime.dt.day.astype(int)\n",
        "    data['booking_datetime_y']= data.booking_datetime.dt.year.astype(int)\n",
        "    data['checkin_date_m'] = data.checkin_date.dt.month.astype(int)\n",
        "    data['checkin_date_d'] = data.checkin_date.dt.day.astype(int)\n",
        "    data['checkin_date_y'] = data.checkin_date.dt.year.astype(int)\n",
        "    # data['checkout_date_m'] = data.checkout_date.dt.month.astype(int)\n",
        "    # data['checkout_date_d'] = data.checkout_date.dt.day.astype(int)\n",
        "    # data['checkout_date_y'] = data.checkout_date.dt.year.astype(int)\n",
        "\n",
        "\n",
        "    #nationalities --- take only relevant features\n",
        "\n",
        "    # sample dropping\n",
        "    \n",
        "    # check that check-in is before the end_date\n",
        "    end_date = pd.to_datetime('2018-12-13')\n",
        "    data = data[data.checkin_date <= end_date]\n",
        "\n",
        "    #feature dropping:\n",
        "    data.drop(columns=['origin_country_code','guest_nationality_country_name','accommadation_type_name','hotel_chain_code', 'booking_datetime', 'checkin_date','checkout_date','cancellation_datetime','hotel_id','h_booking_id','h_customer_id','hotel_brand_code','hotel_live_date','hotel_city_code','cancellation_policy_code','original_payment_currency','original_payment_type','original_payment_method','language','accommadation_type_name'],inplace=True)\n",
        "#not final--> need to do k-prototype and further data featuring\n",
        "    data.fillna(0, inplace = True)\n",
        "\n",
        "\n",
        "    #replaceing nan with 0.0\n",
        "\n",
        "    data['request_nonesmoke'].replace(to_replace=np.nan, value = 0, inplace= True)\n",
        "    data['request_nonesmoke'] = data['request_nonesmoke'].astype(int)\n",
        "    data['request_latecheckin'].replace(to_replace=np.nan, value=0, inplace = True)\n",
        "    data['request_latecheckin'] = data['request_latecheckin'].astype(int)\n",
        "    data['request_highfloor'].replace(to_replace=np.nan, value=0, inplace = True)\n",
        "    data['request_highfloor'] = data['request_highfloor'].astype(int)\n",
        "    data['request_largebed'].replace(to_replace=np.nan, value=0, inplace = True)\n",
        "    data['request_largebed'] = data['request_largebed'].astype(int)\n",
        "    data['request_twinbeds'].replace(to_replace=np.nan, value=0, inplace = True)\n",
        "    data['request_twinbeds'] = data['request_twinbeds'].astype(int)\n",
        "    data['request_airport'].replace(to_replace=np.nan, value=0, inplace = True)\n",
        "    data['request_airport'] = data['request_airport'].astype(int)\n",
        "    data['request_earlycheckin'].replace(to_replace=np.nan, value=0, inplace = True)\n",
        "    data['request_earlycheckin'] = data['request_earlycheckin'].astype(int)\n",
        "\n",
        "    # data.cancellation_datetime = data['cancellation_datetime'].apply(lambda x: x.date())\n",
        "    # start_date = pd.to_datetime('2018-12-07')\n",
        "    # end_date = pd.to_datetime('2018-12-13')\n",
        "    # df['cancellation_datetime'] = (df.cancellation_datetime <= end_date) &  (df.cancellation_datetime > start_date)\n",
        "\n",
        "    data[['is_user_logged_in','hotel_star_rating','original_selling_amount','is_first_booking','is_cancelled']] = data[['is_user_logged_in','hotel_star_rating','original_selling_amount','is_first_booking','is_cancelled']].astype(int)\n",
        "\n",
        "\n",
        "\n",
        "\n",
        "    # Dropping samples that have a checkin-date after 2018-12-13\n",
        "\n",
        "    return data\n",
        "\n",
        "\n",
        "\n",
        "\n",
        "\n",
        "def evaluate_and_export(estimator, X: np.ndarray, filename: str):\n",
        "    \"\"\"\n",
        "    Export to specified file the prediction results of given estimator on given testset.\n",
        "    File saved is in csv format with a single column named 'predicted_values' and n_samples rows containing\n",
        "    predicted values.\n",
        "    Parameters\n",
        "    ----------\n",
        "    estimator: BaseEstimator or any object implementing predict() method as in BaseEstimator (for example sklearn)\n",
        "        Fitted estimator to use for prediction\n",
        "    X: ndarray of shape (n_samples, n_features)\n",
        "        Test design matrix to predict its responses\n",
        "    filename:\n",
        "        path to store file at\n",
        "    \"\"\"\n",
        "    pd.DataFrame(estimator.predict(X), columns=[\"predicted_values\"]).to_csv(filename, index=False)\n",
        "\n",
        "\n"
      ]
    },
    {
      "cell_type": "markdown",
      "source": [
        "Data Preprocessing"
      ],
      "metadata": {
        "id": "H4DvPPeYaVqN"
      }
    },
    {
      "cell_type": "code",
      "source": [
        "from pandas.io.parsers.readers import read_csv\n",
        "#loading data:\n",
        "data  = load_data('https://raw.githubusercontent.com/Matancoo/IML.HUJI/main/datasets/agoda_cancellation_train.csv')\n",
        "response = data.pop('is_cancelled')\n",
        "data.iloc[:,1]\n",
        "data.dtypes\n"
      ],
      "metadata": {
        "id": "q3yzm85gXmgP",
        "colab": {
          "base_uri": "https://localhost:8080/"
        },
        "outputId": "bbb5c4c0-e16d-43ab-af15-7c6a8bc675e7"
      },
      "execution_count": 117,
      "outputs": [
        {
          "output_type": "execute_result",
          "data": {
            "text/plain": [
              "hotel_star_rating            int64\n",
              "guest_is_not_the_customer    int64\n",
              "no_of_adults                 int64\n",
              "no_of_children               int64\n",
              "no_of_extra_bed              int64\n",
              "                             ...  \n",
              "booking_datetime_d           int64\n",
              "booking_datetime_y           int64\n",
              "checkin_date_m               int64\n",
              "checkin_date_d               int64\n",
              "checkin_date_y               int64\n",
              "Length: 296, dtype: object"
            ]
          },
          "metadata": {},
          "execution_count": 117
        }
      ]
    },
    {
      "cell_type": "code",
      "source": [
        "# visualize cancellation basded on hotel country location\n",
        "\n",
        "# df= data[[\"hotel_country_code\", 'is_cancelled']].groupby([\"hotel_country_code\"])['is_cancelled'].sum().reset_index()\n",
        "# px.bar(df,x=\"hotel_country_code\",y='is_cancelled')\n",
        "\n"
      ],
      "metadata": {
        "id": "EwPVouq0_Wii"
      },
      "execution_count": null,
      "outputs": []
    },
    {
      "cell_type": "code",
      "source": [
        "#visualize cancellation basded on clients country location\n",
        "\n",
        "# df= data[[\"customer_nationality\", 'is_cancelled']].groupby(['customer_nationality'])['is_cancelled'].sum().reset_index()\n",
        "# px.bar(df,x=\"customer_nationality\",y='is_cancelled')"
      ],
      "metadata": {
        "id": "_7434oygSn5t"
      },
      "execution_count": null,
      "outputs": []
    },
    {
      "cell_type": "code",
      "source": [
        "#visualizing time interval and booking cancellation\n",
        "\n",
        "# x = data[['time_interval', 'is_cancelled']]\n",
        "# px.bar(x,x='is_cancelled',y='time_interval')"
      ],
      "metadata": {
        "id": "bCGY2GxV6dcn"
      },
      "execution_count": null,
      "outputs": []
    },
    {
      "cell_type": "code",
      "source": [
        "\n",
        "#returns a correlation matrix of each feature with all others.\n",
        "\n",
        "# # data = df.select_dtypes(include=np.number)  # select only numerical features\n",
        "# corr_matrix = data.corr(method='pearson').loc[:, ['is_cancelled']].sort_values('is_cancelled')\n",
        "# corr_target = abs(corr_matrix)\n",
        "data.select_dtypes(include=['object']).columns\n"
      ],
      "metadata": {
        "id": "kWRYwDsWbS7N",
        "colab": {
          "base_uri": "https://localhost:8080/"
        },
        "outputId": "70fb1ff3-438b-41d6-99eb-268ade148142"
      },
      "execution_count": 106,
      "outputs": [
        {
          "output_type": "execute_result",
          "data": {
            "text/plain": [
              "False"
            ]
          },
          "metadata": {},
          "execution_count": 106
        }
      ]
    },
    {
      "cell_type": "code",
      "source": [
        "#NEED TO WORK ON THAT (doesnt work on categorical features)\n",
        "\n",
        "\n",
        "kproto_costs = []\n",
        "for n in range(3, 8):\n",
        "    #do the clustering \n",
        "    kproto = KMeans(n_clusters=n, init=, verbose=0, random_state=42, n_jobs=-1)\n",
        "    clusters = kproto.fit_predict(data, categorical=[])\n",
        "    print(f'cost: {kproto.cost_}')\n",
        "    print(f'iter: {kproto.n_iter_}')\n",
        "    \n",
        "    # get cost \n",
        "    cost = kproto.cost_\n",
        "    \n",
        "    #gather them\n",
        "    kproto_costs.append((n, cost))\n"
      ],
      "metadata": {
        "id": "1hUfBR-huhWC"
      },
      "execution_count": 126,
      "outputs": []
    },
    {
      "cell_type": "code",
      "source": [
        "#NN_MODEL\n",
        "\n",
        "\n",
        "import torch.utils.data as data_utils\n",
        "\n",
        "X_train, X_test, y_train, y_test = train_test_split(data, response)\n",
        "BATCH_SIZE = 256\n",
        "\n",
        "# Scaling the data\n",
        "\n",
        "ss = StandardScaler()\n",
        "X_train = ss.fit_transform(X_train)\n",
        "X_test = ss.transform(X_test)\n",
        "X_train.shape\n",
        "# y_train = y_train[:,None]\n",
        "# y_test = y_test[:,None]\n",
        "\n",
        "\n",
        "\n",
        "\n",
        "# Creating our model's structure\n",
        "model = Sequential()\n",
        "model.add(Dense(32, activation='relu', input_shape=(297,)))\n",
        "model.add(Dropout(0.18))\n",
        "model.add(Dense(64, activation='relu'))\n",
        "model.add(Dropout(0.15))\n",
        "model.add(Dense(32, activation='relu'))\n",
        "model.add(Dropout(0.15))\n",
        "model.add(Dense(1, activation='sigmoid'))\n",
        "\n",
        "# Compiling the model\n",
        "model.compile(loss='bce',\n",
        "              optimizer='adam',\n",
        "              metrics=['binary_accuracy'])\n",
        "\n",
        "# Fitting the model\n",
        "history = model.fit(X_train,\n",
        "                    y_train, \n",
        "                    batch_size = BATCH_SIZE,\n",
        "                    validation_data =(X_test, y_test),\n",
        "                    epochs = 100,\n",
        "                    verbose = 0,)\n",
        "\n",
        "\n",
        "\n",
        "\n",
        "\n",
        "\n"
      ],
      "metadata": {
        "id": "HAZjDO9QXlNy"
      },
      "execution_count": 128,
      "outputs": []
    },
    {
      "cell_type": "code",
      "source": [
        "# Check out our train loss and test loss over epochs.\n",
        "train_loss = history.history['loss']\n",
        "test_loss = history.history['val_loss']\n",
        "\n",
        "# Visualizing our training and testing loss by epoch\n",
        "plt.figure(figsize=(10, 5))\n",
        "plt.plot(train_loss, label='Training Loss', color='#185fad')\n",
        "plt.plot(test_loss, label='Testing Loss', color='orange')\n",
        "plt.title('Training and Testing Loss by Epoch', fontsize = 20)\n",
        "plt.xlabel('Epoch', fontsize = 11)\n",
        "plt.ylabel('Binary Crossentropy', fontsize = 11)\n",
        "plt.legend(fontsize = 11);\n",
        "\n",
        "# Credit to GA CNN global lecture author for the graph code "
      ],
      "metadata": {
        "colab": {
          "base_uri": "https://localhost:8080/",
          "height": 355
        },
        "id": "WXEC4c3ScIGe",
        "outputId": "f674057a-4543-4dfc-bd50-c6a7e0bdeb48"
      },
      "execution_count": 129,
      "outputs": [
        {
          "output_type": "display_data",
          "data": {
            "text/plain": [
              "<Figure size 720x360 with 1 Axes>"
            ],
            "image/png": "[encoded data removed]"
          },
          "metadata": {
            "needs_background": "light"
          }
        }
      ]
    },
    {
      "cell_type": "code",
      "source": [
        "# Visualizing our training and testing accuracy.\n",
        "plt.figure(figsize=(10, 5))\n",
        "plt.plot(history.history['binary_accuracy'], label='Training accuracy')\n",
        "plt.plot(history.history['val_binary_accuracy'], label='Testing accuracy')\n",
        "plt.xlabel('Epoch', fontsize = 10)\n",
        "plt.ylabel('Loss', fontsize = 10)\n",
        "plt.legend(fontsize = 10);"
      ],
      "metadata": {
        "id": "Q3tOuepK2Kfo",
        "outputId": "fef3553f-320e-49d9-b216-92b8da64773f",
        "colab": {
          "base_uri": "https://localhost:8080/",
          "height": 334
        }
      },
      "execution_count": 130,
      "outputs": [
        {
          "output_type": "display_data",
          "data": {
            "text/plain": [
              "<Figure size 720x360 with 1 Axes>"
            ],
            "image/png": "[encoded data removed]"
          },
          "metadata": {
            "needs_background": "light"
          }
        }
      ]
    },
    {
      "cell_type": "code",
      "source": [
        "\n",
        "# if __name__ == '__main__':\n",
        "#     np.random.seed(0)\n",
        "\n",
        "#     # Load data\n",
        "#     df, cancellation_labels = load_data(\"../datasets/agoda_cancellation_train.csv\")\n",
        "#     train_X, train_y, test_X, test_y = split_train_test(df, cancellation_labels)\n",
        "\n",
        "#     # Fit model over data\n",
        "#     estimator = AgodaCancellationEstimator().fit(train_X, train_y)\n",
        "\n",
        "#     # Store model predictions over test set\n",
        "#     evaluate_and_export(estimator, test_X, \"id1_id2_id3.csv\")"
      ],
      "metadata": {
        "id": "O40X2ZolcCvd"
      },
      "execution_count": null,
      "outputs": []
    }
  ]
}